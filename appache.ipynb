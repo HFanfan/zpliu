{
 "cells": [
  {
   "cell_type": "markdown",
   "metadata": {},
   "source": [
    "# 在/etc/httpd/conf/httpd.conf 配置文件中设置文档保存目录 以及脚本执行目录和可 \n",
    "\n",
    "# 以识别的类型 例如在文件中进行修改\n",
    "## AddHandler cgi-script .cgi .pl .py"
   ]
  },
  {
   "cell_type": "markdown",
   "metadata": {},
   "source": [
    "<Directory \"/var/www/cgi-bin\">\n",
    "   AllowOverride None\n",
    "   Options +ExecCGI\n",
    "   Order allow,deny\n",
    "   Allow from all\n",
    "</Directory>"
   ]
  },
  {
   "cell_type": "markdown",
   "metadata": {},
   "source": [
    "## <font color=\"red\"> 文档目录默认设定为 /var/www/html/</font>"
   ]
  },
  {
   "cell_type": "markdown",
   "metadata": {},
   "source": [
    " ## DocumentRoot \"/var/www/html\""
   ]
  },
  {
   "cell_type": "markdown",
   "metadata": {},
   "source": [
    "<tr> \n",
    "    <th bgcolor=\"orange\"> 在APPache服务的文档目录下的cgi-bin/下编写一个hello.py 程序如下 </th>\n",
    "</tr>\n"
   ]
  },
  {
   "cell_type": "code",
   "execution_count": null,
   "metadata": {},
   "outputs": [],
   "source": [
    "#!/usr/bin/python\n",
    "# -*- coding: UTF-8 -*-\n",
    "\n",
    "print(\"Content-type:text/html\\n\\n\")\n",
    "print                               # 空行，告诉服务器结束头部\n",
    "print('<html>')\n",
    "print('<head>')\n",
    "print('<meta charset=\"utf-8\">')\n",
    "print('<title>Hello World - 我的第一个 CGI 程序！</title>')\n",
    "print('</head>')\n",
    "print('<body>')\n",
    "print('<h2>Hello World! 我是来自菜鸟教程的第一CGI程序</h2>')\n",
    "print('</body>')\n",
    "print('</html>')\n"
   ]
  },
  {
   "cell_type": "markdown",
   "metadata": {},
   "source": [
    "### 接下来就是直接运行它啦！ 为了熟悉html的用法我就直接用文件链接的形式把运行结果展示出来"
   ]
  },
  {
   "cell_type": "markdown",
   "metadata": {},
   "source": [
    "## [运行结果](http://www.zpliublog.club/cgi-bin/hello.py)"
   ]
  },
  {
   "cell_type": "code",
   "execution_count": null,
   "metadata": {},
   "outputs": [],
   "source": []
  }
 ],
 "metadata": {
  "kernelspec": {
   "display_name": "Python 3",
   "language": "python",
   "name": "python3"
  },
  "language_info": {
   "codemirror_mode": {
    "name": "ipython",
    "version": 3
   },
   "file_extension": ".py",
   "mimetype": "text/x-python",
   "name": "python",
   "nbconvert_exporter": "python",
   "pygments_lexer": "ipython3",
   "version": "3.6.0"
  }
 },
 "nbformat": 4,
 "nbformat_minor": 2
}
