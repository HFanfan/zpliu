{
 "cells": [
  {
   "cell_type": "markdown",
   "metadata": {},
   "source": [
    "# 今天主要借助与上次在服务器上安装好jupyter以后，借助于github仓库管理功能进\n",
    "# 行数据的备份和更新啦，jupyter在服务器的安装也已经记录好了"
   ]
  },
  {
   "cell_type": "markdown",
   "metadata": {},
   "source": [
    "## <font color=\"red\"> 其实有点不太想码字，但是码一码还是能够印象深刻一点就不偷懒啦</font>"
   ]
  },
  {
   "cell_type": "markdown",
   "metadata": {},
   "source": [
    "## 要想与github'就先在服务器上安装git吧\n",
    "\n",
    "###  命令 <font color=\"orange\"> yum install </font>\n",
    "\n",
    "### git 也就是一个开源协议的软件 个人理解 git+hub 也就是github的目的一个开源的仓库 ^_^\n",
    "\n",
    "## 配置一下\n",
    "## git config --global user.name \"your name\" \n",
    "## git config --global user.email \"your_email@youremail.com\""
   ]
  },
  {
   "cell_type": "markdown",
   "metadata": {},
   "source": []
  },
  {
   "cell_type": "markdown",
   "metadata": {},
   "source": [
    "## 装好git后就让服务器通过公匙与github账户连接吧\n",
    "### 在服务器上生成密匙\n",
    "\n",
    "### 命令 <font color=\"orange\"> ssh-keygen -t rsa -C \"1944532210@qq.com\" </font>\n",
    "### 在我自己的家目录下生成了~/.ssh/id_rsa_pub 文件里面就是我们要的公匙啦"
   ]
  },
  {
   "cell_type": "markdown",
   "metadata": {},
   "source": [
    "<img src=\"生成密匙.png\">"
   ]
  },
  {
   "cell_type": "markdown",
   "metadata": {},
   "source": [
    "## 在github中粘贴你生成的公匙"
   ]
  },
  {
   "cell_type": "markdown",
   "metadata": {},
   "source": [
    "  <img src=\"./github设置.png\">\n"
   ]
  },
  {
   "cell_type": "markdown",
   "metadata": {},
   "source": [
    "***"
   ]
  },
  {
   "cell_type": "markdown",
   "metadata": {},
   "source": [
    " <img src=\"./github密匙设置.png\">"
   ]
  },
  {
   "cell_type": "markdown",
   "metadata": {},
   "source": [
    "***"
   ]
  },
  {
   "cell_type": "markdown",
   "metadata": {},
   "source": [
    "## <font color=\"blue\"> 一切准备就绪，远程服务器终于可以与github连接了接下来就简单学习怎么将我们的代码上传吧</font>"
   ]
  },
  {
   "cell_type": "markdown",
   "metadata": {},
   "source": [
    "### 首先你得在github创建一个repositories"
   ]
  },
  {
   "cell_type": "markdown",
   "metadata": {},
   "source": [
    "### 在本地初始化一个repository\n",
    "\n",
    "### <font color=\"orange\">git init</font>"
   ]
  },
  {
   "cell_type": "markdown",
   "metadata": {},
   "source": [
    "## 将本地的仓库与github上仓库相关联 ，<font color=\"red\"> 这里我也犯了一点小错误</font>"
   ]
  },
  {
   "cell_type": "markdown",
   "metadata": {},
   "source": [
    "### 命令 git remote add origin git@github.com:zpliu1126/zpliu.git"
   ]
  },
  {
   "cell_type": "markdown",
   "metadata": {},
   "source": [
    "<img src=\"./github关联错误.png\">"
   ]
  },
  {
   "cell_type": "markdown",
   "metadata": {},
   "source": [
    "### 这里关联的时候选的是ssh的地址 ，一开始选成了https的windows下的了"
   ]
  },
  {
   "cell_type": "markdown",
   "metadata": {},
   "source": [
    "## 关联好后就可以进行文件的上传了\n",
    "## 网上说先git pull origin master 一下 具体也没说清楚\n",
    "\n",
    "## 再 git push -u origin master 就好了"
   ]
  },
  {
   "cell_type": "markdown",
   "metadata": {},
   "source": [
    "# 让我们来看一下效果吧"
   ]
  },
  {
   "cell_type": "code",
   "execution_count": null,
   "metadata": {},
   "outputs": [],
   "source": []
  }
 ],
 "metadata": {
  "kernelspec": {
   "display_name": "Python 3",
   "language": "python",
   "name": "python3"
  },
  "language_info": {
   "codemirror_mode": {
    "name": "ipython",
    "version": 3
   },
   "file_extension": ".py",
   "mimetype": "text/x-python",
   "name": "python",
   "nbconvert_exporter": "python",
   "pygments_lexer": "ipython3",
   "version": "3.6.0"
  }
 },
 "nbformat": 4,
 "nbformat_minor": 2
}
